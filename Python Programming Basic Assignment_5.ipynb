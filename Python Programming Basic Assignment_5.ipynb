{
 "cells": [
  {
   "cell_type": "code",
   "execution_count": 24,
   "id": "4aa31dbc",
   "metadata": {},
   "outputs": [
    {
     "name": "stdout",
     "output_type": "stream",
     "text": [
      "8\n",
      "12\n",
      "LCM is 24.0\n"
     ]
    }
   ],
   "source": [
    "#1.\tWrite a Python Program to Find LCM?\n",
    "a=int(input())\n",
    "b=int(input())\n",
    "m=a*b\n",
    "HCF=1\n",
    "for i in range(max(a,b),1,-1):\n",
    "    if a%i==0 and b%i==0:\n",
    "        a=a/i\n",
    "        b=b/i\n",
    "        HCF=HCF*i\n",
    "LCM=m/HCF        \n",
    "print(\"LCM is\",LCM)      "
   ]
  },
  {
   "cell_type": "code",
   "execution_count": 26,
   "id": "d9d2b356",
   "metadata": {},
   "outputs": [
    {
     "name": "stdout",
     "output_type": "stream",
     "text": [
      "8\n",
      "12\n",
      "HCF is 4\n"
     ]
    }
   ],
   "source": [
    "#2.\tWrite a Python Program to Find HCF?\n",
    "a=int(input())\n",
    "b=int(input())\n",
    "HCF=1\n",
    "for i in range(max(a,b),1,-1):\n",
    "    if a%i==0 and b%i==0:\n",
    "        a=a/i\n",
    "        b=b/i\n",
    "        HCF=HCF*i\n",
    "print(\"HCF is\",HCF)"
   ]
  },
  {
   "cell_type": "code",
   "execution_count": 5,
   "id": "905e15f9",
   "metadata": {},
   "outputs": [
    {
     "name": "stdout",
     "output_type": "stream",
     "text": [
      "Enter a decimal number:11\n",
      "binary: 0b1011\n",
      "octal: 0o13\n",
      "hexadecimal: 0xb\n"
     ]
    }
   ],
   "source": [
    "#3.\tWrite a Python Program to Convert Decimal to Binary, Octal and Hexadecimal?\n",
    "n=int(input(\"Enter a decimal number:\"))\n",
    "import math\n",
    "b=bin(n)\n",
    "print(\"binary:\",b)\n",
    "o=oct(n)\n",
    "print(\"octal:\",o)\n",
    "h=hex(n)\n",
    "print(\"hexadecimal:\",h)"
   ]
  },
  {
   "cell_type": "code",
   "execution_count": 17,
   "id": "ff3058ab",
   "metadata": {},
   "outputs": [
    {
     "name": "stdout",
     "output_type": "stream",
     "text": [
      "Enter a charactera\n",
      "ASCII value: 97\n"
     ]
    }
   ],
   "source": [
    "#4.\tWrite a Python Program To Find ASCII value of a character?\n",
    "n=str(input(\"Enter a character\"))\n",
    "print(\"ASCII value:\",ord(n))"
   ]
  },
  {
   "cell_type": "code",
   "execution_count": 23,
   "id": "b1b4da90",
   "metadata": {},
   "outputs": [
    {
     "name": "stdout",
     "output_type": "stream",
     "text": [
      "Enter a number:6\n",
      "Enter any of these +,-,*,/:/\n",
      "Enter a number:2\n",
      "3.0\n"
     ]
    }
   ],
   "source": [
    "#5.\tWrite a Python Program to Make a Simple Calculator with 4 basic mathematical operations?\n",
    "a=float(input(\"Enter a number:\"))\n",
    "b=str(input(\"Enter any of these +,-,*,/:\"))\n",
    "c=float(input(\"Enter a number:\"))\n",
    "if b=='+':\n",
    "    print(a+c)\n",
    "elif b=='-':\n",
    "    print(a-c)\n",
    "elif b=='*':\n",
    "    print(a*c)\n",
    "elif b=='/':\n",
    "    if c==0:\n",
    "        print(error)\n",
    "    else:\n",
    "        print(a/c)"
   ]
  },
  {
   "cell_type": "code",
   "execution_count": null,
   "id": "29cc0cbc",
   "metadata": {},
   "outputs": [],
   "source": []
  }
 ],
 "metadata": {
  "kernelspec": {
   "display_name": "Python 3 (ipykernel)",
   "language": "python",
   "name": "python3"
  },
  "language_info": {
   "codemirror_mode": {
    "name": "ipython",
    "version": 3
   },
   "file_extension": ".py",
   "mimetype": "text/x-python",
   "name": "python",
   "nbconvert_exporter": "python",
   "pygments_lexer": "ipython3",
   "version": "3.9.7"
  }
 },
 "nbformat": 4,
 "nbformat_minor": 5
}
